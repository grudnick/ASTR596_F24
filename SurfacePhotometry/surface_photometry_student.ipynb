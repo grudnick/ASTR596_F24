{
 "cells": [
  {
   "cell_type": "markdown",
   "metadata": {},
   "source": [
    "# ASTR 596 Fall 2024 - Surface photometry lab (50 Points)\n",
    "\n",
    "In this lab we will be performing surface photometry of four nearby galaxies, including ellipticals and spirals.  \n",
    "\n",
    "This lab will be done via a mixture of python commands using the photutils aperture photometry package (https://photutils.readthedocs.io/en/stable/aperture.html) and the photutils isophote fitting package (https://photutils.readthedocs.io/en/stable/isophote.html).  We will also be using imexam and ds9.\n",
    "\n",
    "In this lab you will learn how to do the following things:\n",
    "* estimate the background for an image and subtract it;\n",
    "* estimate initial guesses for input parameters to an isophotal fitting code using ds9;\n",
    "* fit elliptical isophotes;\n",
    "* use photometry within these isophotes to measure the radial profile of various parameters;\n",
    "* compute the radius within which half the total light is contained.  This is called the effective radius.\n",
    "\n",
    "<i>Note: Enter in all code to the problems in the provided notebook cells. Questions to answer will be <b>bolded</b>.</i>  \n",
    "\n",
    "All your answers should be entered in this notebook. Each student will need to hand in their own notebook by uploading it to GitHub following the instructions.\n",
    "\n",
    "In the code places where you will need to put something or write your own code are specified by `#***************`  You will not get points for doing this unless explicitly noted.  Some of these things are just to make sure you are setting up your paths correctly.\n",
    "\n",
    "**Due on <font color='red'>12/2 at Noon</font>** to be handed into the \"Surface Photometry\" assignment in <font color='red'>Module 8</font>.\n",
    "\n",
    "You will need to download the raw data.  You can access it at <ul><a href=https://www.dropbox.com/t/3my6A650iw8hB85l> this dropbox link </a></ul>.  There are four galaxy images.  You will need to measure something from all of them.  The galaxies are:\n",
    "* NGC 3982\n",
    "* NGC 5198\n",
    "* NGC 5985\n",
    "* PCG 0997820\n",
    "\n",
    "You should have a directory on your computer called `~/ASTR596/Data`.  You shoudl put the data there."
   ]
  },
  {
   "cell_type": "code",
   "execution_count": null,
   "metadata": {},
   "outputs": [],
   "source": [
    "#import \n",
    "from astropy.stats import sigma_clipped_stats\n",
    "from astropy.visualization import SqrtStretch\n",
    "from astropy.visualization.mpl_normalize import ImageNormalize\n",
    "from astropy.wcs import WCS\n",
    "from astropy.io import fits\n",
    "import glob\n",
    "import os\n",
    "from scipy.stats import scoreatpercentile\n",
    "import astropy.units as u\n",
    "from scipy import stats\n",
    "\n",
    "from matplotlib.patches import Rectangle\n",
    "from matplotlib.collections import PatchCollection\n",
    "from matplotlib import pyplot as plt\n",
    "import numpy as np\n",
    "from matplotlib import colors\n",
    "\n",
    "\n",
    "from astropy.nddata import CCDData\n",
    "#from ccdproc import ImageFileCollection, Combiner, combine\n",
    "from ccdproc import wcs_project"
   ]
  },
  {
   "cell_type": "markdown",
   "metadata": {},
   "source": [
    "### Some functions to display the images"
   ]
  },
  {
   "cell_type": "code",
   "execution_count": null,
   "metadata": {},
   "outputs": [],
   "source": [
    "def imdisplay(image, v1perc=10, v2perc=95, logscale=True):\n",
    "    '''\n",
    "    display an image \n",
    "    OPTIONAL KEYWORD PARAMETERS\n",
    "    v1perc: one end of the colormap assigned to the v1perc percent lowest flux \n",
    "    v2perc: the other end of the colormap assigned to the v2perc percent highest flux    \n",
    "    '''\n",
    "    fig,ax = plt.subplots(figsize=(6,6))\n",
    "    # make sure image is an np array\n",
    "    nimage = np.array(image)\n",
    "    # determine the pixel values at the 10th and 95th percentile\n",
    "    v1 = scoreatpercentile(nimage,v1perc)\n",
    "    v2 = scoreatpercentile(nimage,v2perc)\n",
    "    # display using imshow\n",
    "    #\n",
    "    # you can play with alternate cmaps in the function below, such as \"viridis\" or \"gray\"\n",
    "    # The 'gray_r' color map reverses the color-scale so that dark display pixels are the brightest in the image\n",
    "    #\n",
    "    # vmin and vmax set the min and max pixel values that\n",
    "    # will be mapped to the extremes of the colormap\n",
    "    print(v1,v2)\n",
    "    if (logscale):\n",
    "        im = ax.imshow(nimage,cmap='gray_r',aspect='equal',norm=colors.LogNorm(vmin=v1,vmax=v2),origin='lower')\n",
    "    else:\n",
    "        im = ax.imshow(nimage,cmap='gray_r',aspect='equal',vmin=v1,vmax=v2,origin='lower')\n",
    "        \n",
    "    cbar = fig.colorbar(im, ax=ax, fraction=0.04)\n",
    "    cbar.ax.set_ylabel('counts')\n",
    "    return fig,ax"
   ]
  },
  {
   "cell_type": "code",
   "execution_count": null,
   "metadata": {},
   "outputs": [],
   "source": [
    "def imdisplay2(image, v1perc=10, v2perc=95, logscale=True):\n",
    "    '''\n",
    "    display two copies of an image side-by-side\n",
    "    OPTIONAL KEYWORD PARAMETERS\n",
    "    v1perc: one end of the colormap assigned to the v1perc percent lowest flux \n",
    "    v2perc: the other end of the colormap assigned to the v2perc percent highest flux    \n",
    "    '''\n",
    "    #this makes two horizontal figures \n",
    "    fig,axs = plt.subplots(1,2,figsize=(12,6))\n",
    "    # make sure image is an np array\n",
    "    nimage = np.array(image)\n",
    "    # determine the pixel values at the 10th and 95th percentile\n",
    "    v1 = scoreatpercentile(nimage,v1perc)\n",
    "    v2 = scoreatpercentile(nimage,v2perc)\n",
    "    # display using imshow\n",
    "    #\n",
    "    # you can play with alternate cmaps in the function below, such as \"viridis\" or \"gray\"\n",
    "    # The 'gray_r' color map reverses the color-scale so that dark display pixels are the brightest in the image\n",
    "    #\n",
    "    # vmin and vmax set the min and max pixel values that\n",
    "    # will be mapped to the extremes of the colormap\n",
    "    print(f\"v1 = {v1:5.2f}, v2 = {v2:5.2f}\")\n",
    "    if (logscale):\n",
    "        #plot the two figures side by side\n",
    "        im0 = axs[0].imshow(nimage,cmap='gray_r',aspect='equal',norm=colors.LogNorm(vmin=v1,vmax=v2),origin='lower')\n",
    "        im1 = axs[1].imshow(nimage,cmap='gray_r',aspect='equal',norm=colors.LogNorm(vmin=v1,vmax=v2),origin='lower')\n",
    "    else:\n",
    "        im0 = axs[0].imshow(nimage,cmap='gray_r',aspect='equal',vmin=v1,vmax=v2,origin='lower')\n",
    "        im1 = axs[1].imshow(nimage,cmap='gray_r',aspect='equal',vmin=v1,vmax=v2,origin='lower')\n",
    "\n",
    "    #plot colorbars for each subplot\n",
    "    cbar0 = fig.colorbar(im0, ax=axs[0], fraction=0.04)\n",
    "    cbar0.ax.set_ylabel('counts')\n",
    "    cbar1 = fig.colorbar(im1, ax=axs[1], fraction=0.04)\n",
    "    cbar1.ax.set_ylabel('counts')\n",
    "    return fig,axs\n"
   ]
  },
  {
   "cell_type": "code",
   "execution_count": null,
   "metadata": {},
   "outputs": [],
   "source": [
    "#***************\n",
    "#put your data directory here\n",
    "datadir = '/Users/grudnick/Work/Teaching/Classes/Astro_596/Fall_2023/Computer_Projects/ASTR596_F23_project_workspace/SurfacePhotometry/Data'\n",
    "#datadir = '/home/grudnick/ASTR596/Data/Surface_Photometry'\n",
    "os.chdir(datadir)"
   ]
  },
  {
   "cell_type": "markdown",
   "metadata": {},
   "source": [
    "## Display the image in DS9\n",
    "\n",
    "SAOimage DS9 is a popular and easy to use image viewer.  There are various tutorials at https://sites.google.com/cfa.harvard.edu/saoimageds9/documentation?authuser=0 .\n",
    "\n",
    "Here is another third party tutorial https://astrobites.org/2011/03/09/how-to-use-sao-ds9-to-examine-astronomical-images/ \n",
    "\n",
    "In the following description I will refer to menu choices as those at the top of the screen or window.  I will refer to buttons as the double line of buttons right above where the image is displayed.  I will refer to sub buttons with **button1**->**button2**\n",
    "\n",
    "1. In DS9 open `NGC3982-custom-image-r.fits`\n",
    "2. Under the **scale** button choose **log** and **zscale**.  In the Menu bar choose Scale->Scale parameters.  In the \"high\" box choose 3.\n",
    "3. Use the right mouse button to change the stretch on the image.  You may need to select the **edit**->**none** or **edit**->**colorbar** button for this to work.\n"
   ]
  },
  {
   "cell_type": "markdown",
   "metadata": {},
   "source": [
    "## Problem 1 - Estimate the background and subtract it (10 Points)\n",
    "\n",
    "Before performing photometry you need to subtract off the background.  To do this for this exercise you are going to:\n",
    "1. pick a square region in each of the 4 corners of the image and compute the best estimate of the background level over all the pixels in these areas.  Note that the straight average may not be the best option.\n",
    "2. subtract this background level from the image \n",
    "3. display the background subtracted image"
   ]
  },
  {
   "cell_type": "markdown",
   "metadata": {},
   "source": [
    "#### 1. compute background level\n",
    "Here is an example of how to display an image with a log scaling."
   ]
  },
  {
   "cell_type": "code",
   "execution_count": null,
   "metadata": {},
   "outputs": [],
   "source": [
    "imname = 'NGC3982-custom-image-r.bkg.fits'\n",
    "#fig,ax = plt.subplots(figsize=(6,6))\n",
    "data,header = fits.getdata(imname, header=True)\n",
    "fig,ax = imdisplay(data,v1perc=1,v2perc=99.9,logscale=True)\n",
    "\n",
    "plt.title(imname)"
   ]
  },
  {
   "cell_type": "markdown",
   "metadata": {},
   "source": [
    "This is a code that will take in an image name and data, as well as corners of background boxes, and will measure the background in two different ways."
   ]
  },
  {
   "cell_type": "code",
   "execution_count": null,
   "metadata": {},
   "outputs": [],
   "source": [
    "def background_meas(imname,data,header,fig,ax,corners,bkg_size=5):\n",
    "    #need to find ways to select regions of pixels in image\n",
    "    fig,ax = imdisplay(data,v1perc=1,v2perc=99,logscale=True)\n",
    "\n",
    "    plt.title(imname)\n",
    "\n",
    "    #print out the x and y-dimension of the image using the header keywords\n",
    "    print('image xdim = ', header['NAXIS1'], '; image ydim = ',header['NAXIS2'])\n",
    "    #the length of each background box size\n",
    "    #bkg_size = 200\n",
    "\n",
    "    #make an array whose elements are the different data sections.\n",
    "    reg = np.array([])\n",
    "\n",
    "\n",
    "    #specify the different regions.  Each will be appended to the reg array.  the reg array is therefore 3 dimensional.  \n",
    "    #the first dimension is for each region.  Each of those dimensions contains a 2D array that holds the image section.\n",
    "    reg = np.append(reg, data[corners[0][0]:bkg_size-1, corners[0][1]:bkg_size-1])    #lower left corner\n",
    "    reg = np.append(reg, data[corners[1][0]:bkg_size-1, corners[1][1]:])    #upper left corner\n",
    "    reg = np.append(reg, data[corners[2][0]:, corners[2][1]:])    #upper right corner\n",
    "    reg = np.append(reg, data[corners[3][0]:, corners[3][1]:bkg_size-1])   #lower right corner\n",
    "\n",
    "    #print the median and mode of all the pixels. \n",
    "    bkgmode =stats.mode(reg,keepdims=False)[0]\n",
    "    bkgmed = np.median(reg)\n",
    "    print('mode = ',bkgmode)\n",
    "    print('median = ',bkgmed)\n",
    "\n",
    "    #Overlay rectangles with the background region indicated\n",
    "    rectlist = []\n",
    "    #loop through all images \n",
    "    for corn in corners:\n",
    "        rect = plt.Rectangle((corn),bkg_size, bkg_size,linewidth=2,angle=0.0)\n",
    "        rectlist.append(rect)\n",
    "        pc = PatchCollection(rectlist,linewidth=1,edgecolor='r',facecolor='none')\n",
    "        ax.add_collection(pc)\n",
    "        \n",
    "    return bkgmode,bkgmed"
   ]
  },
  {
   "cell_type": "markdown",
   "metadata": {},
   "source": [
    "\n",
    "Open the image in ds9 and use the log stretch to see if you can define corners of the image that are relatively free of galaxy light at a hard stretch.  You will compute the average pixel value in each of these regions and take the average.  It is ok if there are stars in these regions.  You should have 4 regions for the image.  An example that works for this image is shown below.  \n",
    "\n",
    "**Note**\n",
    "* to make it simpler, the boxes should be equal in size.  You will need to specify the lower left corner of each box.\n",
    "* The images I am providing here have been selected from much larger images from the DESI Legacy Survey https://www.legacysurvey.org/viewer .  Therefore they do not have strange behavior around the edges and you can use the edges of the image as the edges of your sky region without any buffer region."
   ]
  },
  {
   "cell_type": "markdown",
   "metadata": {},
   "source": [
    "To make your coding easier, I'm going to make a bunch of dictionaries such that the main variable name is the same and you only have to change the galaxy name with the galname variable."
   ]
  },
  {
   "cell_type": "code",
   "execution_count": null,
   "metadata": {},
   "outputs": [],
   "source": [
    "#initialize dictionaries that contains names of images and headers\n",
    "imname = {}\n",
    "data = {}\n",
    "header = {}\n",
    "corners = {}\n",
    "bkgdim = {}\n",
    "\n",
    "#statistics of background\n",
    "bkgmode = {}\n",
    "bkgmed = {}"
   ]
  },
  {
   "cell_type": "code",
   "execution_count": null,
   "metadata": {},
   "outputs": [],
   "source": [
    "#a routine to plot the images with the background measurement corners shown in red\n",
    "def bkgregplot(data,header,imname, bkgdim, fig, ax):\n",
    "    #define lower-left corners of each region\n",
    "    corners = []\n",
    "    corners.append([0,0])\n",
    "    corners.append([0,header['NAXIS2']-bkgdim])\n",
    "    corners.append([header['NAXIS1']-bkgdim, header['NAXIS2']-bkgdim])\n",
    "    corners.append([header['NAXIS1']-bkgdim,0])\n",
    "\n",
    "    #run the background_meas code to measure the background and plot the background regions\n",
    "    bkgmode,bkgmed = background_meas(imname, data, header, fig, ax, \n",
    "                                                       corners,bkg_size=bkgdim)\n",
    "    return bkgmode, bkgmed"
   ]
  },
  {
   "cell_type": "markdown",
   "metadata": {},
   "source": [
    "### NGC3982"
   ]
  },
  {
   "cell_type": "code",
   "execution_count": null,
   "metadata": {},
   "outputs": [],
   "source": [
    "galname = 'NGC3982'\n",
    "imname[galname] = 'NGC3982-custom-image-r.bkg.fits'\n",
    "\n",
    "#read fits image\n",
    "data[galname],header[galname] = fits.getdata(imname[galname], header=True)\n",
    "\n",
    "#the size of the background squares\n",
    "bkgdim[galname]= 200\n",
    "\n",
    "#plot image with background regions\n",
    "bkgmode[galname],bkgmed[galname] = bkgregplot(\n",
    "    data[galname], header[galname], imname[galname], bkgdim[galname], fig, ax)\n"
   ]
  },
  {
   "cell_type": "markdown",
   "metadata": {},
   "source": [
    "### NGC5198"
   ]
  },
  {
   "cell_type": "code",
   "execution_count": null,
   "metadata": {},
   "outputs": [],
   "source": [
    "#*******************\n",
    "#write your code here\n"
   ]
  },
  {
   "cell_type": "markdown",
   "metadata": {},
   "source": [
    "### NGC5985"
   ]
  },
  {
   "cell_type": "code",
   "execution_count": null,
   "metadata": {},
   "outputs": [],
   "source": [
    "#*******************\n",
    "#write your code here\n"
   ]
  },
  {
   "cell_type": "markdown",
   "metadata": {},
   "source": [
    "### PCG0997820"
   ]
  },
  {
   "cell_type": "code",
   "execution_count": null,
   "metadata": {},
   "outputs": [],
   "source": [
    "#*******************\n",
    "#write your code here\n"
   ]
  },
  {
   "cell_type": "markdown",
   "metadata": {},
   "source": [
    "#### 2. subtract background and display subtracted image\n",
    "\n",
    "In this component you will need to:\n",
    "* subtract your background from the previously read in image\n",
    "* display that image\n",
    "* write out your image\n",
    "\n",
    "I provide one example below and you will need to do the other 3.  Note that since counts can be negative, you will need to choose v1perc to make sure that the lowest counts are positive.  The limits of the colorbar scale are printed after the imdisplay() command so you will see how far you are away."
   ]
  },
  {
   "cell_type": "code",
   "execution_count": null,
   "metadata": {},
   "outputs": [],
   "source": [
    "#initializse dictionary that will hold background subtracted images\n",
    "data_bsub = {}\n",
    "imname_bsub = {}"
   ]
  },
  {
   "cell_type": "markdown",
   "metadata": {},
   "source": [
    "### NGC 3982"
   ]
  },
  {
   "cell_type": "code",
   "execution_count": null,
   "metadata": {},
   "outputs": [],
   "source": [
    "galname = 'NGC3982'\n",
    "\n",
    "#background subtract the data\n",
    "data_bsub[galname] = data[galname] - bkgmed[galname]\n",
    "\n",
    "#display the background subtracted data\n",
    "fig,ax =imdisplay(data_bsub[galname],v1perc=40,v2perc=99.9,logscale=True)\n",
    "\n",
    "#add an image title\n",
    "plt.title(galname + ' background subtracted')\n",
    "\n",
    "#make a new image name that replaces one string with another\n",
    "imname_bsub[galname] = imname[galname].replace(\"bkg.fits\",\"bsub.fits\")\n",
    "\n",
    "# save the background_subtracted image to a file\n",
    "fits.writeto(imname_bsub[galname],data_bsub[galname],overwrite=True,header=header[galname])"
   ]
  },
  {
   "cell_type": "markdown",
   "metadata": {},
   "source": [
    "### NGC 5198"
   ]
  },
  {
   "cell_type": "code",
   "execution_count": null,
   "metadata": {
    "scrolled": true
   },
   "outputs": [],
   "source": [
    "#***************\n",
    "#your code goes here\n"
   ]
  },
  {
   "cell_type": "markdown",
   "metadata": {},
   "source": [
    "### NGC 5985"
   ]
  },
  {
   "cell_type": "code",
   "execution_count": null,
   "metadata": {},
   "outputs": [],
   "source": [
    "#***************\n",
    "#your code goes here\n"
   ]
  },
  {
   "cell_type": "markdown",
   "metadata": {},
   "source": [
    "### PGC 0997820"
   ]
  },
  {
   "cell_type": "code",
   "execution_count": null,
   "metadata": {},
   "outputs": [],
   "source": [
    "#***************\n",
    "#your code goes here\n"
   ]
  },
  {
   "cell_type": "markdown",
   "metadata": {},
   "source": [
    "**Question**: comment on the differences between the images with background and those with background subtracted.  Please describe why you think this is."
   ]
  },
  {
   "cell_type": "markdown",
   "metadata": {},
   "source": [
    "**put answer here.**\n"
   ]
  },
  {
   "cell_type": "markdown",
   "metadata": {},
   "source": [
    "## Problem 2 - estimate initial guesses for ellipse parameters (15 Points)\n",
    "The `photutils` package that we will be using for doing our photometry requires initial guesses for the center, semi-major axis, ellipticity, and position angle.  We will measure these using DS9 on the background subtracted images.\n",
    "* xcen, ycen: What you think the center is by using the cursor on ds9\n",
    "\n",
    "* semi-major axis, ellipticity, PA: For the other items you will need to make an elliptical region in ds9 that matches where the brighter part of the galaxy is.  If you double click on the region it will bring up a dialog box that lets you adjust the PA and also will output the semi-major and semi-minor axes, which you will need for the ellipticity measurement.  You should display the information in pixels using the dropdown to the right of the `radius` field in the \"Ellipse\" window.  Choose `Image`\n",
    "\n",
    "**Note**: In ds9, when the first radius in the `Ellipse` window is the semi-major axis, the PA is measured South of East.  This is the same sense as the Elliptical Isophote package in the following problem uses.\n",
    "\n",
    "For each galaxy, provide these intial guesses.  I will be storing these as a python dictionary for each galaxy.\n",
    "\n",
    "These guesses do not need to be super precise but they need to be in the right ballpark."
   ]
  },
  {
   "cell_type": "code",
   "execution_count": null,
   "metadata": {},
   "outputs": [],
   "source": [
    "#initialize the dictionary containing the intial parameters for the ellipse fitting\n",
    "initparams = {}"
   ]
  },
  {
   "cell_type": "markdown",
   "metadata": {},
   "source": [
    "#### NGC 3982"
   ]
  },
  {
   "cell_type": "code",
   "execution_count": null,
   "metadata": {},
   "outputs": [],
   "source": [
    "#initiparams is a dictionary which contains an entry for each galaxy.  That dictionary in turns points to another dictionary with the parameters.\n",
    "galname = 'NGC3982'\n",
    "initparams[galname] = {}\n",
    "#centroids [pixels]\n",
    "initparams[galname]['xcen'] = 541\n",
    "initparams[galname]['ycen'] = 541\n",
    "#semi-major axis [pixels]\n",
    "initparams[galname]['sma'] = 116\n",
    "#semin-minor axis [pixels]\n",
    "initparams[galname]['smina'] = 96\n",
    "#ellipticity = 1-b/a\n",
    "initparams[galname]['ellip'] = 1. - initparams[galname]['smina'] / initparams[galname]['sma'] \n",
    "#position angle, counterclockwise from the positive x-direction (right) [degrees]\n",
    "initparams[galname]['PA'] = 90.0"
   ]
  },
  {
   "cell_type": "markdown",
   "metadata": {},
   "source": [
    "#### NGC 5198"
   ]
  },
  {
   "cell_type": "code",
   "execution_count": null,
   "metadata": {},
   "outputs": [],
   "source": [
    "#*******************\n",
    "#Your estimates go here.\n",
    "#initiparams is a dictionary which contains an entry for each galaxy.  That dictionary in turns points to another dictionary with the parameters.\n",
    "galname = 'NGC5198'\n",
    "initparams[galname] = {}\n",
    "#centroids [pixels]\n",
    "initparams[galname]['xcen'] = \n",
    "initparams[galname]['ycen'] = \n",
    "#semi-major axis [pixels]\n",
    "initparams[galname]['sma'] = \n",
    "#semin-minor axis [pixels]\n",
    "initparams[galname]['smina'] = \n",
    "#ellipticity = 1-b/a\n",
    "initparams[galname]['ellip'] = 1. - initparams[galname]['smina'] / initparams[galname]['sma'] \n",
    "#position angle, counterclockwise from the positive x-direction (right) [degrees]\n",
    "initparams[galname]['PA'] = "
   ]
  },
  {
   "cell_type": "markdown",
   "metadata": {},
   "source": [
    "#### NGC 5985"
   ]
  },
  {
   "cell_type": "code",
   "execution_count": null,
   "metadata": {},
   "outputs": [],
   "source": [
    "#*******************\n",
    "#Your estimates go here.\n",
    "#initiparams is a dictionary which contains an entry for each galaxy.  That dictionary in turns points to another dictionary with the parameters.\n",
    "galname = 'NGC5985'\n",
    "initparams[galname] = {}\n",
    "#centroids [pixels]\n",
    "initparams[galname]['xcen'] = \n",
    "initparams[galname]['ycen'] = \n",
    "#semi-major axis [pixels]\n",
    "initparams[galname]['sma'] = \n",
    "#semin-minor axis [pixels]\n",
    "initparams[galname]['smina'] = \n",
    "#ellipticity = 1-b/a\n",
    "initparams[galname]['ellip'] = 1. - initparams[galname]['smina'] / initparams[galname]['sma'] \n",
    "#position angle, counterclockwise from the positive x-direction (right) [degrees]\n",
    "initparams[galname]['PA'] = "
   ]
  },
  {
   "cell_type": "markdown",
   "metadata": {},
   "source": [
    "PGC 0997820"
   ]
  },
  {
   "cell_type": "code",
   "execution_count": null,
   "metadata": {},
   "outputs": [],
   "source": [
    "#*******************\n",
    "#Your estimates go here.\n",
    "#initiparams is a dictionary which contains an entry for each galaxy.  That dictionary in turns points to another dictionary with the parameters.\n",
    "galname = 'PGC0997820'\n",
    "initparams[galname] = {}\n",
    "#centroids [pixels]\n",
    "initparams[galname]['xcen'] = \n",
    "initparams[galname]['ycen'] = \n",
    "#semi-major axis [pixels]\n",
    "initparams[galname]['sma'] = \n",
    "#semin-minor axis [pixels]\n",
    "initparams[galname]['smina'] = \n",
    "#ellipticity = 1-b/a\n",
    "initparams[galname]['ellip'] = 1. - initparams[galname]['smina'] / initparams[galname]['sma'] \n",
    "#position angle, counterclockwise from the positive x-direction (right) [degrees]\n",
    "initparams[galname]['PA'] = "
   ]
  },
  {
   "cell_type": "markdown",
   "metadata": {},
   "source": [
    "## Problem 3 - fit elliptical isophotes and measure the radial profiles for various ellipse paramters (15 Points)\n",
    "\n",
    "We will now use the `photutils.isophot()` task to fit elliptical isophotes (https://photutils.readthedocs.io/en/stable/isophote.html).  An \"isophote\" is a line of constant surface brightness, akin to a countour on a topographical map.  To get a visual representation of an isophote do the following:\n",
    "* open one of the background subtracted images in ds9 and dislay it in log scale\n",
    "* in the analysis menu open \"contour parameters\" and set the number of countours to 10.  Then hit `Generate` and then `Apply`\n",
    "\n",
    "The green lines on your image connect pixels of identical flux.  Since the pixels have the same area within a given image, these lines therefore connect points of constant surface brightness.\n",
    "\n",
    "The `photutils.isophote()` code that we will be using fits ellipses to the isophotes."
   ]
  },
  {
   "cell_type": "code",
   "execution_count": null,
   "metadata": {},
   "outputs": [],
   "source": [
    "from photutils.isophote import EllipseGeometry\n",
    "from photutils.aperture import EllipticalAperture\n",
    "\n",
    "#define an empty dictionary that will contain the EllipseGeometry instance\n",
    "geometry = {}"
   ]
  },
  {
   "cell_type": "markdown",
   "metadata": {},
   "source": [
    " We must provide the elliptical isophote fitter with an initial ellipse to be fitted. This ellipse geometry is defined with the **EllipseGeometry** class. Here we’ll define an initial ellipse from our answer to problem 2."
   ]
  },
  {
   "cell_type": "markdown",
   "metadata": {},
   "source": [
    "### NGC 3982"
   ]
  },
  {
   "cell_type": "code",
   "execution_count": null,
   "metadata": {},
   "outputs": [],
   "source": [
    "#set up the EllipseGeometry instance with the right initial guess parameters\n",
    "galname = 'NGC3982'\n",
    "geometry[galname] = EllipseGeometry(x0 = initparams[galname]['xcen'], \n",
    "                                      y0 = initparams[galname]['ycen'],\n",
    "                                      sma = initparams[galname]['sma'],\n",
    "                                      eps = initparams[galname]['ellip'],\n",
    "                                      pa = initparams[galname]['PA'] * np.pi/180)   #convert into radians\n",
    "\n",
    "print(geometry[galname].sma,geometry[galname].eps )\n",
    "#make an aperture to overplot so that we can check if it makes sense\n",
    "aper = EllipticalAperture((geometry[galname].x0, geometry[galname].y0), geometry[galname].sma, \n",
    "                          geometry[galname].sma * (1.-geometry[galname].eps), geometry[galname].pa)\n",
    "\n",
    "#plot our image\n",
    "#fig,ax = plt.subplots(figsize=(6,6))\n",
    "fig,ax = imdisplay(data_bsub[galname],v1perc=40,v2perc=99.99,logscale=True)\n",
    "aper.plot(color='red')\n",
    "plt.title(galname)"
   ]
  },
  {
   "cell_type": "markdown",
   "metadata": {},
   "source": [
    "### NGC 5198"
   ]
  },
  {
   "cell_type": "code",
   "execution_count": null,
   "metadata": {},
   "outputs": [],
   "source": [
    "#***************************\n",
    "#Your code here\n",
    "#set up the EllipseGeometry instance with the right initial guess parameters\n"
   ]
  },
  {
   "cell_type": "markdown",
   "metadata": {},
   "source": [
    "### NGC 5985"
   ]
  },
  {
   "cell_type": "code",
   "execution_count": null,
   "metadata": {},
   "outputs": [],
   "source": [
    "#***************************\n",
    "#Your code here\n",
    "#set up the EllipseGeometry instance with the right initial guess parameters\n"
   ]
  },
  {
   "cell_type": "markdown",
   "metadata": {},
   "source": [
    "### PGC 0997820"
   ]
  },
  {
   "cell_type": "code",
   "execution_count": null,
   "metadata": {},
   "outputs": [],
   "source": [
    "#***************************\n",
    "#Your code here\n",
    "#set up the EllipseGeometry instance with the right initial guess parameters\n"
   ]
  },
  {
   "cell_type": "markdown",
   "metadata": {},
   "source": [
    "**Question** For some of these galaxies, the PA is very important to get the apertures right.  Please tell me for which galaxies it is not very important, and why."
   ]
  },
  {
   "cell_type": "markdown",
   "metadata": {},
   "source": [
    "**put answer in this cell**"
   ]
  },
  {
   "cell_type": "markdown",
   "metadata": {},
   "source": [
    "#### Some routines I wrote for you for the next parts\n",
    "This is a subroutine I have written to plot our outputs of ellipse fitting"
   ]
  },
  {
   "cell_type": "code",
   "execution_count": null,
   "metadata": {},
   "outputs": [],
   "source": [
    "def plotellipse(isolist):\n",
    "    plt.figure(figsize=(8, 8))\n",
    "    plt.subplots_adjust(hspace=0.35, wspace=0.35)\n",
    "\n",
    "    #plot the semi-major axis vs. the ellipticity\n",
    "    plt.subplot(2, 2, 1)\n",
    "    plt.errorbar(isolist.sma, isolist.eps, yerr=isolist.ellip_err,\n",
    "                 fmt='o', markersize=4)\n",
    "    plt.xlabel('Semimajor Axis Length (pix)')\n",
    "    plt.ylabel('Ellipticity')\n",
    "\n",
    "    #plot the semi-major axis vs. the PA\n",
    "    plt.subplot(2, 2, 2)\n",
    "    plt.errorbar(isolist.sma, isolist.pa / np.pi * 180.0,\n",
    "                 yerr=isolist.pa_err / np.pi * 80.0, fmt='o', markersize=4)\n",
    "    plt.xlabel('Semimajor Axis Length (pix)')\n",
    "    plt.ylabel('PA (deg)')\n",
    "\n",
    "    #plot the semi-major axis vs. the x center of that ellipse\n",
    "    plt.subplot(2, 2, 3)\n",
    "    plt.errorbar(isolist.sma, isolist.x0, yerr=isolist.x0_err, fmt='o',\n",
    "                 markersize=4)\n",
    "    plt.xlabel('Semimajor Axis Length (pix)')\n",
    "    plt.ylabel('x0')\n",
    "\n",
    "    #plot the semi-major axis vs. the y center of that ellipse\n",
    "    plt.subplot(2, 2, 4)\n",
    "    plt.errorbar(isolist.sma, isolist.y0, yerr=isolist.y0_err, fmt='o',\n",
    "                 markersize=4)\n",
    "    plt.xlabel('Semimajor Axis Length (pix)')\n",
    "    plt.ylabel('y0')"
   ]
  },
  {
   "cell_type": "markdown",
   "metadata": {},
   "source": [
    "This is a subroutine to plot all of the ellipses.  It plots one version where the ellipse has a free geometry at every isophote and one where I set the ellipses to have the same geometry at every semi-major axis."
   ]
  },
  {
   "cell_type": "code",
   "execution_count": null,
   "metadata": {},
   "outputs": [],
   "source": [
    "#this subroutine will plot every other isophote on top of the galaxy image\n",
    "def plotaper(galname, image, isophote_list,vminperc=40,vmaxperc=99.99):\n",
    "\n",
    "    #plot image\n",
    "    #plt.subplots(figsize=(6,6))\n",
    "    fig,ax = imdisplay2(image,v1perc=vminperc,v2perc=vmaxperc,logscale=True)\n",
    "\n",
    "    #Loop through all apertures starting at the first (not zero) and going to every other aperture\n",
    "    for i in range(1, len(isophote_list.sma),2):\n",
    "        #create an elliptical aperture with the the correct geometry.  \n",
    "        #Task is described here https://photutils.readthedocs.io/en/stable/api/photutils.aperture.EllipticalAperture.html#photutils.aperture.EllipticalAperture\n",
    "        aperiter = EllipticalAperture((isophote_list.x0[i], isophote_list.y0[i]), isophote_list.sma[i], \n",
    "                                      isophote_list.sma[i] * (1-isophote_list.eps[i]), isophote_list.pa[i])\n",
    "    \n",
    "        #overplot apertures\n",
    "        aperiter.plot(ax=ax[0],color='red')\n",
    "\n",
    "    #plot the isophotes that have parameters fixed to the median parameters of all but the \"apmin\" inner isphotes\n",
    "    #compute median isophote parameters ignoring inner isophotes.  This is because the inner isophotes all tend to be rather circular\n",
    "    apmin = 20   #the minimum inner isophote in terms of isophote number.\n",
    "    xcenav = np.median(isophote_list.x0[apmin:])\n",
    "    ycenav = np.median(isophote_list.y0[apmin:])\n",
    "    epsav = np.median(isophote_list.eps[apmin:])\n",
    "    paav = np.median(isophote_list.pa[apmin:])\n",
    "    \n",
    "    #fig,ax = imdisplay(image,v1perc=vminperc,v2perc=vmaxperc,logscale=True)\n",
    "    for i in range(1, len(isophote_list.sma),2):\n",
    "        #create an elliptical aperture with the the correct geometry.  \n",
    "        #Task is described here https://photutils.readthedocs.io/en/stable/api/photutils.aperture.EllipticalAperture.html#photutils.aperture.EllipticalAperture\n",
    "        aperiter = EllipticalAperture((xcenav, ycenav), isophote_list.sma[i], \n",
    "                                      isophote_list.sma[i] * (1-epsav), paav)\n",
    "    \n",
    "        #overplot apertures\n",
    "        aperiter.plot(ax=ax[1],color='blue')\n",
    "\n",
    "    ax[0].set_title(galname + ' free ellipse parameters')\n",
    "    ax[1].set_title(galname + ' fixed ellipse parameters')\n",
    "\n",
    "    return xcenav, ycenav, epsav, paav"
   ]
  },
  {
   "cell_type": "markdown",
   "metadata": {},
   "source": [
    "Next, we create an instance of the Ellipse class, inputting the data to be fitted and the initial ellipse geometry object:"
   ]
  },
  {
   "cell_type": "code",
   "execution_count": null,
   "metadata": {},
   "outputs": [],
   "source": [
    "from photutils.isophote import Ellipse\n",
    "\n",
    "#initialize dictionary for ellipse fitting\n",
    "ellipse = {}\n",
    "isolist = {}"
   ]
  },
  {
   "cell_type": "markdown",
   "metadata": {},
   "source": [
    "The values computed by the fitting process are the attributes at this table https://photutils.readthedocs.io/en/stable/api/photutils.isophote.Isophote.html#photutils.isophote.Isophote\n",
    "\n",
    "I will do the first galaxy for you and you will need to do the other three"
   ]
  },
  {
   "cell_type": "markdown",
   "metadata": {},
   "source": [
    "### NGC 3982"
   ]
  },
  {
   "cell_type": "code",
   "execution_count": null,
   "metadata": {},
   "outputs": [],
   "source": [
    "xcenav = {}\n",
    "ycenav = {}\n",
    "epsav = {}\n",
    "paav = {}"
   ]
  },
  {
   "cell_type": "code",
   "execution_count": null,
   "metadata": {},
   "outputs": [],
   "source": [
    "#this will do the fitting of the isophotes by making an instance of the Ellipse class\n",
    "#It then fits the data using the initial guesses we computed above\n",
    "galname = 'NGC3982'\n",
    "ellipse[galname] = Ellipse(data_bsub[galname], geometry[galname])\n",
    "isolist[galname] = ellipse[galname].fit_image()"
   ]
  },
  {
   "cell_type": "code",
   "execution_count": null,
   "metadata": {},
   "outputs": [],
   "source": [
    "#this puts the output into a table containing every ellipse.   \n",
    "#You can comment this first line out if you don't want it always to print out.\n",
    "#print(isolist[galname].eps)\n",
    "\n",
    "#make a set of plots that show some attributes of every ellipse.\n",
    "plotellipse(isolist[galname])\n",
    "#save the shape values of the average ellipse.  We will need this later for aperture photometry\n",
    "xcenav[galname], ycenav[galname], epsav[galname], paav[galname] = plotaper(galname, data_bsub[galname],isolist[galname])"
   ]
  },
  {
   "cell_type": "markdown",
   "metadata": {},
   "source": [
    "**Question** Describe the behavior of each plot in words and how it relates to the images and the apertures, as viewed in the cells above or in ds9"
   ]
  },
  {
   "cell_type": "markdown",
   "metadata": {},
   "source": [
    "**put answer in this cell**"
   ]
  },
  {
   "cell_type": "markdown",
   "metadata": {},
   "source": [
    "### NGC 5198"
   ]
  },
  {
   "cell_type": "code",
   "execution_count": null,
   "metadata": {},
   "outputs": [],
   "source": [
    "#***************************\n",
    "#Your code here\n"
   ]
  },
  {
   "cell_type": "code",
   "execution_count": null,
   "metadata": {},
   "outputs": [],
   "source": []
  },
  {
   "cell_type": "markdown",
   "metadata": {},
   "source": [
    "**Question** Describe the behavior of each plot in words and how it relates to the images and the apertures, as viewed in the cells above or in ds9"
   ]
  },
  {
   "cell_type": "markdown",
   "metadata": {},
   "source": [
    "**put answer in this cell**"
   ]
  },
  {
   "cell_type": "markdown",
   "metadata": {},
   "source": [
    "### NGC 5985"
   ]
  },
  {
   "cell_type": "code",
   "execution_count": null,
   "metadata": {},
   "outputs": [],
   "source": [
    "#***************************\n",
    "#Your code here\n"
   ]
  },
  {
   "cell_type": "code",
   "execution_count": null,
   "metadata": {},
   "outputs": [],
   "source": []
  },
  {
   "cell_type": "markdown",
   "metadata": {},
   "source": [
    "**Question** Describe the behavior of each plot in words and how it relates to the images and the apertures, as viewed in the cells above or in ds9"
   ]
  },
  {
   "cell_type": "markdown",
   "metadata": {},
   "source": [
    "**put answer in this cell**"
   ]
  },
  {
   "cell_type": "markdown",
   "metadata": {},
   "source": [
    "### PGC 0997820"
   ]
  },
  {
   "cell_type": "code",
   "execution_count": null,
   "metadata": {},
   "outputs": [],
   "source": [
    "#***************************\n",
    "#Your code here\n"
   ]
  },
  {
   "cell_type": "code",
   "execution_count": null,
   "metadata": {},
   "outputs": [],
   "source": []
  },
  {
   "cell_type": "markdown",
   "metadata": {},
   "source": [
    "**Question** Describe the behavior of each plot in words and how it relates to the images and the apertures, as viewed in the cells above or in ds9"
   ]
  },
  {
   "cell_type": "markdown",
   "metadata": {},
   "source": [
    "**put answer in this cell**"
   ]
  },
  {
   "cell_type": "markdown",
   "metadata": {},
   "source": [
    "**Question** In light of the differences between the free ellipse geometry and the constrained ellipse geometry, discuss the advantages and disadvantages are of the two in regards to measuring the shape of the isophotes and in measuring the flux profiles."
   ]
  },
  {
   "cell_type": "markdown",
   "metadata": {},
   "source": [
    "**put answer in this cell**"
   ]
  },
  {
   "cell_type": "markdown",
   "metadata": {},
   "source": [
    "## Problem 4 - construct curves of growth, radial surface brightness profiles, and measure half-light radii (10 Points)\n",
    "\n",
    "In this problem we will measure the half-light (or effective) radius of every galaxy.  To do this we will first create something called a \"curve of growth\", which shows how much light you get within each aperture.  As you increase in radius this cumulative flux grows.  We will also plot a surface brightness profile, which is the average surface brightness in each annulus.  We will use the annuli that have fixed ellipse geometries from above.\n",
    "\n",
    "For the purpose of these plots, we will use the ellipse centers, ellipticity, and position angle that we determined as the median of all the ellipses in the previous exercise.\n",
    "\n",
    "First you will need to complete the code for each galaxy to measure the curve of growth, half-light radius, and surface brightness profile.\n",
    "\n",
    "In each code block you will need to:\n",
    "* measure the total flux in each elliptical aperture\n",
    "* calculate its uncertainty\n",
    "* Use this to determine the radius within which 50% of the light is contained\n",
    "* measure mean surface brightness in mag/asec^2 in each annulus\n",
    "* calculate its uncertainty\n",
    "* plot the surface brightness profile\n",
    "* determine the surface brightness at the center and at the half-light radius and compare them.\n",
    "\n",
    "**Notes** There will also be questions at the end that you will need to answer."
   ]
  },
  {
   "cell_type": "code",
   "execution_count": null,
   "metadata": {},
   "outputs": [],
   "source": [
    "from photutils.aperture import ApertureStats\n",
    "from photutils.aperture import EllipticalAnnulus, EllipticalAperture"
   ]
  },
  {
   "cell_type": "code",
   "execution_count": null,
   "metadata": {},
   "outputs": [],
   "source": [
    "#initialize dictionary for half-light radii\n",
    "rhalfasec = {}"
   ]
  },
  {
   "cell_type": "markdown",
   "metadata": {},
   "source": [
    "### NGC 3982"
   ]
  },
  {
   "cell_type": "code",
   "execution_count": null,
   "metadata": {},
   "outputs": [],
   "source": [
    "galname = 'NGC3982'\n",
    "\n",
    "#we will use the isophote shape that corresponds to the average isophote values from the previous section\n",
    "#xcenav[galname], ycenav[galname], epsav[galname], paav[galname]\n",
    "\n",
    "#the magnitude zeropoint of the image, such that mag = -2.5 * log(flux) + magzp\n",
    "magzp = header[galname]['MAGZERO']\n",
    "\n",
    "#The pixel scale from the header converted from degrees to asec\n",
    "pixscale = header[galname]['CD2_2'] * 3600.    #in asec/pix\n",
    "\n",
    "#Go through every aperture and measure the surface brightness between it and the next most outer isophote\n",
    "#initialize arrays for surface brightness and bin center\n",
    "rcent = np.array([])\n",
    "sbcent = np.array([])\n",
    "sbcent_err = np.array([])\n",
    "totflux = np.array([])\n",
    "totflux_err = np.array([])\n",
    "for aindx, a_out in enumerate(isolist[galname].sma):\n",
    "\n",
    "    #skip the first isophote because I will always compute the values between the current isophote and the previous\n",
    "    if aindx==0:\n",
    "        a_in = 0.01\n",
    "\n",
    "    if aindx>0:\n",
    "        #create the inner and outer minor axes from the major axes and ellipticity\n",
    "        b_out = a_out * (1.-epsav[galname])\n",
    "        b_in = a_in * (1.-epsav[galname])\n",
    "\n",
    "        #print(f'a_out = {a_out:.2f}; a_in ={a_in:.2f}; b_out ={b_out:.2f}; b_in ={b_in:.2f}')\n",
    "        #set up elliptical annulus using parameters at rhalf\n",
    "        annulus_aperture = EllipticalAnnulus((xcenav[galname],ycenav[galname]), \n",
    "                                             a_in, a_out, b_out, b_in = b_in,\n",
    "                                             theta = paav[galname])\n",
    "        total_aperture = EllipticalAperture((xcenav[galname],ycenav[galname]), \n",
    "                                             a_out, b_out, theta = paav[galname])\n",
    "        aperstats_ann = ApertureStats(data_bsub[galname],annulus_aperture)\n",
    "        aperstats_tot = ApertureStats(data_bsub[galname],total_aperture)\n",
    "        a_in = a_out\n",
    "\n",
    "        #the central radius of each annulus in asec.  I'm appending each central radius to the existing array\n",
    "        rcent = np.append(rcent, (a_in + a_out) / 2.*pixscale)\n",
    "        #the average pixel flux within each annulus\n",
    "        avflux = aperstats_ann.mean\n",
    "        #the standard deviation of the pixel values within each annulus\n",
    "        stdflux = aperstats_ann.std\n",
    "        #the number of pixels in each annulus\n",
    "        numpix = aperstats_ann.sum_aper_area\n",
    "\n",
    "        #Now do the total within each aperture\n",
    "        totflux = np.append(totflux,aperstats_tot.sum)\n",
    "        totflux_err = np.append(totflux_err,aperstats_tot.std)\n",
    "        \n",
    "        #****************************\n",
    "        #your code here\n",
    "        #the area of a pixel\n",
    "        pixarea = \n",
    "        #determine the average surface brightness in mag/asec^2.\n",
    "        sbcent = np.append(sbcent, )\n",
    "        # the uncertainty in the mean flux (this is not the standard deviation of all the pixels in the aperture).  \n",
    "        # Check back to Homework 1\n",
    "        avflux_err = \n",
    "        avflux_err = avflux_err * u.pix   #this gets rid of the units on the flux error so that the next part works\n",
    "        sbcent_err = np.append(sbcent_err, )\n",
    "\n",
    "fig,ax = plt.subplots(1,2,figsize=(12, 6))\n",
    "\n",
    "#plot the semi-major axis vs. magnitude\n",
    "ax[1].errorbar(rcent, sbcent, yerr=sbcent_err, \n",
    "             fmt='o', markersize=4, color='black', label='SB profile')\n",
    "ax[1].invert_yaxis()\n",
    "\n",
    "ax[1].legend(fontsize=12)\n",
    "\n",
    "ax[1].set_xlabel('$r_{semi-major~axis}$ [asec]',fontsize=16)\n",
    "ax[1].set_ylabel('surface brightness [mag/asec$^2$]',fontsize=16)\n",
    "ax[1].set_title(galname)\n",
    "\n",
    "#plot the curve of growth\n",
    "ax[0].errorbar(rcent, totflux, yerr=totflux_err, \n",
    "             fmt='o', markersize=4, color='black', label='curve of growth')\n",
    "ax[0].errorbar(rcent, totflux, yerr=totflux_err, \n",
    "             fmt='-', markersize=4, color='magenta', label='curve of growth')\n",
    "\n",
    "#ax[0].axvline(rhalfasec[galname], color='red', label='$r_{half}$')\n",
    "ax[0].legend(fontsize=12)\n",
    "\n",
    "ax[0].set_xlabel('$r_{semi-major~axis}$ [asec]',fontsize=16)\n",
    "ax[0].set_ylabel('enclosed flux within ellipse',fontsize=16)\n",
    "ax[0].set_title(galname)\n",
    "\n",
    "#measure the half-light radius\n",
    "#a horizontal line at half the total flux\n",
    "ax[0].axhline(totflux[-1]/2., color='red')\n",
    "\n",
    "#a vertical line at half the total flux\n",
    "#*************************\n",
    "#You will need to adjust rhalfpix by eye to get the radius that encompasses half the light.\n",
    "#you shoul do this using the plot you make, not using the image itself.\n",
    "rhalfasec[galname] = \n",
    "ax[0].axvline(rhalfasec[galname], color='red')\n",
    "print(f'the half-light radius = {rhalfasec[galname]:.3f} [asec]')\n",
    "\n",
    "#plot the same line on the surface brightness plot\n",
    "ax[1].axvline(rhalfasec[galname], color='red', label='$r_{half}$')\n",
    "\n",
    "#calculate and print the surface brightness somewhere within 3 arcsec from the center.  \n",
    "#Note that some of the inner values have NaNs because the isophote fitting failed there.  \n",
    "#Just keep going out in index until you get a valid value\n",
    "#***********************\n",
    "#your code here\n",
    "print('your answer')\n",
    "\n",
    "#calculate and print out the surface brightness at the effective radius\n",
    "#***********************\n",
    "#your code here\n",
    "#find the isophote that best corresponds to the half-light radius\n",
    "#We will do this by computing the difference between the half-light radius\n",
    "#and the semi-major axis of each isophote.  \n",
    "diff = rcent - rhalfasec[galname]\n",
    "\n",
    "#this returns the index of the isophote that is closes to the half-light radius\n",
    "#We use this to set the ellipticity and PA of the isophotes\n",
    "rhalfasecind = np.argmin(abs(diff))\n",
    "\n",
    "\n",
    "print('your answer')\n",
    "\n",
    "#calculate and print out the ratio of the **flux** surface brightness between the center and at r_half\n",
    "#***********************\n",
    "#your code here\n",
    "flux_rat = \n",
    "print(f'flux_SB(rhalf) / flux_SB(rcent) = {flux_rat:.3f}')\n"
   ]
  },
  {
   "cell_type": "markdown",
   "metadata": {},
   "source": [
    "### NGC 5198"
   ]
  },
  {
   "cell_type": "code",
   "execution_count": null,
   "metadata": {},
   "outputs": [],
   "source": [
    "galname = 'NGC5198'\n",
    "\n",
    "#***********************\n",
    "#your code here\n"
   ]
  },
  {
   "cell_type": "markdown",
   "metadata": {},
   "source": [
    "### NGC 5985"
   ]
  },
  {
   "cell_type": "code",
   "execution_count": null,
   "metadata": {},
   "outputs": [],
   "source": [
    "galname = 'NGC5985'\n",
    "\n",
    "#***********************\n",
    "#your code here\n",
    "\n"
   ]
  },
  {
   "cell_type": "markdown",
   "metadata": {},
   "source": [
    "### PGC 0997820"
   ]
  },
  {
   "cell_type": "code",
   "execution_count": null,
   "metadata": {},
   "outputs": [],
   "source": [
    "galname = 'PGC0997820'\n",
    "\n",
    "#***********************\n",
    "#your code here\n"
   ]
  },
  {
   "cell_type": "markdown",
   "metadata": {},
   "source": [
    "**Question** For the galaxies above, answer in words written below each bullet:\n",
    "* For each galaxy how the half-light compares to the visible extent of the galaxy using what you see in the displayed images or in ds9?\n",
    "\n",
    "\n",
    "* For each galaxy, we need to establish the radius within which nearly all of the flux is contained.  This point can be determined by looking at how the curve of growth changes with radius and is not necessarily the largest radius to which you plot.  which feature of the curve of growth curves you plotted tells you where the radius is that contains most of the flux and whether you can evern robustly determine this radius?\n",
    "\n",
    "\n",
    "\n",
    "* For each galaxy, use imexam to measure the FWHM of the image using stars in the image.  Then quantify how your half-light radius for each galaxy compares to the FWHM.  Do you think that the half-light radius is big enough to not be influenced by smearing of the image by the PSF.  This needs to be given for each galaxy.\n",
    "\n"
   ]
  },
  {
   "cell_type": "markdown",
   "metadata": {},
   "source": [
    "**Question** If the goal of measuring the half-light radius is to measure the distribution of light from the galaxy and not any other sources on the image, what do you think you can do in order to minimize the effect of other sources in the image on this measurment.  "
   ]
  },
  {
   "cell_type": "markdown",
   "metadata": {},
   "source": [
    "**put answer here**\n",
    "\n"
   ]
  },
  {
   "cell_type": "markdown",
   "metadata": {},
   "source": [
    "## Problem 5 - Describe the ratio in surface brightness between the center and outskirts, as well as the other points below: (10 points)\n",
    "* Are there differences in the profiles between ellipticals and spirals?\n",
    "* Does the behavior of the light profile differ inside and outside of the half-light radius?  \n",
    "* Which galaxies have light profiles consistent with being exponential, and in what part of the profiles? You must describe why they look like exponentials.  Note that not all galaxies have exponential profiles, but some do.\n",
    "* For the galaxies consistent with an exponential profile, what is exponential scale length of the disk.  You must show all your calculations."
   ]
  },
  {
   "cell_type": "markdown",
   "metadata": {},
   "source": [
    "**answer goes here**\n",
    "\n"
   ]
  }
 ],
 "metadata": {
  "kernelspec": {
   "display_name": "stenv",
   "language": "python",
   "name": "stenv"
  },
  "language_info": {
   "codemirror_mode": {
    "name": "ipython",
    "version": 3
   },
   "file_extension": ".py",
   "mimetype": "text/x-python",
   "name": "python",
   "nbconvert_exporter": "python",
   "pygments_lexer": "ipython3",
   "version": "3.12.5"
  }
 },
 "nbformat": 4,
 "nbformat_minor": 4
}
