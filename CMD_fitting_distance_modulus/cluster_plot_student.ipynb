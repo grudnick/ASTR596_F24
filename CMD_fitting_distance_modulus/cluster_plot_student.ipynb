{
 "cells": [
  {
   "cell_type": "markdown",
   "metadata": {},
   "source": [
    "**Name**: "
   ]
  },
  {
   "cell_type": "markdown",
   "metadata": {},
   "source": [
    "# Main sequence fitting of clusters (50 points)\n",
    "\n",
    "I expect that you will be able to complete most of the work in class.  If you do not, you have till **Monday, September 30** to hand it in.  Instructions on how to do so are at the end of the document.  \n",
    "\n",
    "This exercise is intended to give you a practical exercise in determining the distance to star clusters in the milky way.  You will do this by plotting the color-magnitude diagrams of 4 clusters compared to that of a cluster with a known distances.  This \"reference\" cluster is the nearby Pleiades (M 45), which is visible to the naked eye in late fall/winter.  It has a distance of 130pc.\n",
    "\n",
    "There are four other clusters that you will be studying:<br>\n",
    "M 34<br>\n",
    "M 36<br>\n",
    "NGC 6231<br>\n",
    "NGC 3293<br>\n",
    "\n",
    "I have written a program to plot the color magnitude diagram of each cluster on top of the Plieades cluster.  You run this code by typing:\n",
    "\n",
    "*cp.cmdplot(clustname='cluster name',magshift=0.0,colshift=0.0)*\n",
    "\n",
    "For each cluster you will use the code to plot that cluster and input color and magnitude shifts to align the cluster with the Pleiades.  Using your knowledge of how distance affects color and magnitude, you will need to decide if you use color shifts, magnitude shifts, or both.\n",
    "\n",
    "Using these shifts you will write a snippet of code below each plot in the space provided.  This code should be a short calculation to determine what the distance is based on the shifts. \n",
    "\n",
    "_Note that it is not required that color and magnitude shifts be used in your calculation.  You get to decide which are important._\n",
    "\n",
    "In order to get full credit for this assignment all cells have to execute without errors.  You also need to fill out the cells at the bottom and add code where required\n",
    "\n",
    "The colors and magnitudes being used in this program are called GRP and GBP.  These stand for \"GAIA Red Passband\" and \"GAIA Blue Passband\" and are custome filters used for the GAIA mission.\n",
    "\n",
    "All sections of code that you need to work on will be indicated by a '#### Write code here'"
   ]
  },
  {
   "cell_type": "code",
   "execution_count": null,
   "metadata": {},
   "outputs": [],
   "source": [
    "import cluster_plot as cp\n",
    "import numpy as np\n",
    "from matplotlib import pyplot as plt\n",
    "import warnings\n",
    "warnings.filterwarnings('ignore')"
   ]
  },
  {
   "cell_type": "markdown",
   "metadata": {},
   "source": [
    "## From here onward is the assignment\n",
    "\n",
    "#### 1. M34 (5 points)"
   ]
  },
  {
   "cell_type": "code",
   "execution_count": null,
   "metadata": {},
   "outputs": [],
   "source": [
    "cp.cmdplot(clustname='M 34',magshift=0.0,colshift=0.0)"
   ]
  },
  {
   "cell_type": "markdown",
   "metadata": {},
   "source": [
    "In this cell, describe what you chose for your shifts and why."
   ]
  },
  {
   "cell_type": "markdown",
   "metadata": {},
   "source": [
    "Use the derived shifts to compute a distance to the cluster relative to the Pleiades cluster by writing a small snippet of code.\n",
    "\n",
    "You can find info on how to format output statements like in the last line at https://docs.python.org/3/tutorial/inputoutput.html"
   ]
  },
  {
   "cell_type": "code",
   "execution_count": null,
   "metadata": {},
   "outputs": [],
   "source": [
    "#write a calculation here that you execute and which prints out the ratio of the distance of your cluster to that of the Pleiades\n",
    "#To compute the log_10 you need to write \"np.log10(number)\"\n",
    "#### Write code here.\n",
    "# enter your calculated shift here\n",
    "shift_m34 = \n",
    "\n",
    "# Assuming the distance to M45 is 130pc write an code expression that converts your shift into the ratio of the distances \n",
    "#the Pleiades to this cluster\n",
    "dist_ratio_m34 =\n",
    "\n",
    "#prints to 2 significant digits\n",
    "print(f\"dPlieades/dM34 = {dist_ratio_m34:4.2f}\")"
   ]
  },
  {
   "cell_type": "markdown",
   "metadata": {},
   "source": [
    "#### 2. M 36 (5 points)"
   ]
  },
  {
   "cell_type": "code",
   "execution_count": null,
   "metadata": {},
   "outputs": [],
   "source": [
    "cp.cmdplot(clustname='M 36',magshift=0.0,colshift=0.0)"
   ]
  },
  {
   "cell_type": "markdown",
   "metadata": {},
   "source": [
    "In this cell, describe what you chose for your shifts and why."
   ]
  },
  {
   "cell_type": "markdown",
   "metadata": {},
   "source": [
    "Use the derived shifts to compute a distance to the cluster relative to the Pleiades cluster by writing a small snippet of code."
   ]
  },
  {
   "cell_type": "code",
   "execution_count": null,
   "metadata": {},
   "outputs": [],
   "source": [
    "#write a calculation here that you execute and which prints out the ratio of the distance of your cluster to that of the Pleiades\n",
    "#To compute the log_10 you need to write \"np.log10(number)\"\n",
    "#### Write code here.\n",
    "# enter your calculated shift here\n",
    "shift_m36 =\n",
    "\n",
    "# Assuming the distance to M45 is 130pc write an code expression that converts your shift into the ratio of the distances \n",
    "#the Pleiades to this cluster\n",
    "dist_ratio_m36 = \n",
    "\n",
    "#prints to 2 significant digits\n",
    "print(f\"dPlieades/dM36 = {dist_ratio_m36:4.2f}\")"
   ]
  },
  {
   "cell_type": "markdown",
   "metadata": {},
   "source": [
    "#### 3. NGC 6231  (5 points)"
   ]
  },
  {
   "cell_type": "code",
   "execution_count": null,
   "metadata": {},
   "outputs": [],
   "source": [
    "cp.cmdplot(clustname='NGC 6231',magshift=0.0,colshift=0.0)"
   ]
  },
  {
   "cell_type": "markdown",
   "metadata": {},
   "source": [
    "In this cell, describe what you chose for your shifts and why."
   ]
  },
  {
   "cell_type": "markdown",
   "metadata": {},
   "source": [
    "Use the derived shifts to compute a distance to the cluster relative to the Pleiades cluster by writing a small snippet of code."
   ]
  },
  {
   "cell_type": "code",
   "execution_count": null,
   "metadata": {},
   "outputs": [],
   "source": [
    "#write a calculation here that you execute and which prints out the ratio of the distance of your cluster to that of the Pleiades\n",
    "#To compute the log_10 you need to write \"np.log10(number)\"\n",
    "#### Write code here.\n",
    "\n",
    "# enter your calculated shift here\n",
    "shift_ngc6231 = \n",
    "\n",
    "# Assuming the distance to M45 is 130pc write an code expression that converts your shift into the ratio of the distances \n",
    "#the Pleiades to this cluster\n",
    "dist_ratio_ngc6231 = \n",
    "\n",
    "#prints to 2 significant digits\n",
    "print(f\"dPlieades/dNGC6231 = {dist_ratio_ngc6231:4.2f}\")"
   ]
  },
  {
   "cell_type": "markdown",
   "metadata": {},
   "source": [
    "#### 4. NGC 3293  (5 points)"
   ]
  },
  {
   "cell_type": "code",
   "execution_count": null,
   "metadata": {},
   "outputs": [],
   "source": [
    "cp.cmdplot(clustname='ngc 3293',magshift=0.0,colshift=0.0)"
   ]
  },
  {
   "cell_type": "markdown",
   "metadata": {},
   "source": [
    "In this cell, describe what you chose for your shifts and why."
   ]
  },
  {
   "cell_type": "markdown",
   "metadata": {},
   "source": [
    "Use the derived shifts to compute a distance to the cluster relative to the Pleiades cluster by writing a small snippet of code."
   ]
  },
  {
   "cell_type": "code",
   "execution_count": null,
   "metadata": {},
   "outputs": [],
   "source": [
    "#write a calculation here that you execute and which prints out the ratio of the distance of your cluster to that of the Pleiades\n",
    "#To compute the log_10 you need to write \"np.log10(number)\"\n",
    "#### Write code here.\n",
    "\n",
    "# enter your calculated shift here\n",
    "shift_ngc3293 = \n",
    "\n",
    "# Assuming the distance to M45 is 130pc write an code expression that converts your shift into the ratio of the distances \n",
    "#the Pleiades to this cluster\n",
    "dist_ratio_ngc3293 = \n",
    "\n",
    "#prints to 2 significant digits\n",
    "print(f\"dPlieades/dNGC3293 = {dist_ratio_ngc3293:4.2f}\")"
   ]
  },
  {
   "cell_type": "markdown",
   "metadata": {},
   "source": [
    "### 5. plotting distances vs. distance modulus  (14 points)\n",
    "If the distance to the Pleiades cluster is 130pc, compute the distance modulus to each cluster.  You can do the algebra on a separate piece of paper, but below I want you to code up the formula for each cluster in the field below"
   ]
  },
  {
   "cell_type": "code",
   "execution_count": null,
   "metadata": {},
   "outputs": [],
   "source": [
    "#For each cluster put in a line of code that calculates the distance modulus.  I have given part of the code below and expect you to fill it in.\n",
    "\n",
    "#this creates a python array that contains all of the distance ratios you calculated above.  \n",
    "#Now you can do operations on this array and it will operate on every element\n",
    "dist_ratios = np.array([dist_ratio_m34, dist_ratio_m36, dist_ratio_ngc6231, dist_ratio_ngc3293])\n",
    "\n",
    "#### Write code here.\n",
    "\n",
    "#write an expression to calculate the distance to each cluster\n",
    "dist_pleiades = 130.0\n",
    "dists = \n",
    "\n",
    "#print to 2 significant digits\n",
    "print(f\"Distance for M 34 = {dists[0]:6.2f} pc\")\n",
    "print(f\"Distance for M 36 = {dists[1]:6.2f} pc\")\n",
    "print(f\"Distance for NGC 6231 = {dists[2]:6.2f} pc\")\n",
    "print(f\"Distance for NGC 3293 = {dists[3]:6.2f} pc\")\n",
    "print()\n",
    "\n",
    "#write an expression to derive the distance modulus from the distance ratio or distance\n",
    "dist_mods = \n",
    "\n",
    "print(f\"Distance Modulus for M 34 = {dist_mods[0]:4.2f}\")\n",
    "print(f\"Distance Modulus for M 36 = {dist_mods[1]:4.2f}\")\n",
    "print(f\"Distance Modulus for NGC 6231 = {dist_mods[2]:4.2f}\")\n",
    "print(f\"Distance Modulus for NGC 3293 = {dist_mods[3]:4.2f}\")"
   ]
  },
  {
   "cell_type": "markdown",
   "metadata": {},
   "source": [
    "Now make a plot of the Distance modulus you calculated above vs. the log10 of the distance.  I will write some of the code below and you will need to fill it in to get the appropriate values.\n",
    "\n",
    "I then want you to overplot the relation that you would expect given the relation between distance and distance modulus\n",
    "\n",
    "In the `plot` statement below there are missing arguments.  the `'ko', markersize=9)` part of the call indicates that you should have black circles (`'ko'`) and that the size of the points should be 9, in whatever units pyplot uses (bigger number = larger points)"
   ]
  },
  {
   "cell_type": "code",
   "execution_count": null,
   "metadata": {},
   "outputs": [],
   "source": [
    "#You will need to make an array that contains the log of the distances\n",
    "\n",
    "#### Write code here\n",
    "logdist = \n",
    "\n",
    "#now complete this plot statement to plot the log of the distance vs. the distance modulus.  \n",
    "plt.plot( ,'ko', markersize=9)\n",
    "plt.xlabel('log(distance [pc])')\n",
    "plt.ylabel('Distance modulus')\n",
    "\n",
    "# here you will need to draw a line on your plot that shows the prediction\n",
    "#of the distance modulus given the distance.\n",
    "#these are the two x-points of your line, in log distance\n",
    "logdistpred = np.array([2,4])\n",
    "\n",
    "# write down the function that turns logdistpred into the distance modulus\n",
    "# \n",
    "dmpred = \n",
    "\n",
    "#plot this line on the previous plot\n",
    "#the 'r-' indicates a red line\n",
    "plt.plot(logdistpred, dmpred, 'r-')\n"
   ]
  },
  {
   "cell_type": "markdown",
   "metadata": {},
   "source": [
    "### 6. below this line you need to modify the cells and include text  (16 points)\n",
    "\n",
    "In each cell add text to answer the following questions"
   ]
  },
  {
   "cell_type": "markdown",
   "metadata": {},
   "source": [
    "- Quantify how the line you plotted matches (or not) the data.  You will need to calculate the value of the line at the distance of each of the clusters and compare the distance modulus predicted from the line with the measured distance modulus of the cluster.  You need to include a list of the differences between the predicted and measured distance modulus.  You can write this out or program it.  Pay attention to significant digits when printing numbers.\n",
    "\n",
    "Conclude in words based on your numbers how the predicted and measured values compare.\n"
   ]
  },
  {
   "cell_type": "code",
   "execution_count": null,
   "metadata": {},
   "outputs": [],
   "source": [
    "print(f\"Measured log(distance/pc) for M 34 = {logdist[0]:4.2f}\")\n",
    "print(f\"Measured log(distance/pc) for M 36 = {logdist[1]:4.2f}\")\n",
    "print(f\"Measured log(distance/pc) for NGC 6231 = {logdist[2]:4.2f}\")\n",
    "print(f\"Measured log(distance/pc) for NGC 3293 = {logdist[3]:4.2f}\")\n",
    "print()\n",
    "print(f\"Measured Distance Modulus for M 34 = {dist_mods[0]:4.2f}\")\n",
    "print(f\"Measured Distance Modulus for M 36 = {dist_mods[1]:4.2f}\")\n",
    "print(f\"Measured Distance Modulus for NGC 6231 = {dist_mods[2]:4.2f}\")\n",
    "print(f\"Measured Distance Modulus for NGC 3293 = {dist_mods[3]:4.2f}\")\n",
    "\n",
    "######### write code here\n",
    "#predicted distance moduli\n",
    "dmpred_dat = \n",
    "print()\n",
    "print(f\"Predicted Distance Modulus for M 34 = {dmpred_dat[0]:4.2f}\")\n",
    "print(f\"Predicted Distance Modulus for M 36 = {dmpred_dat[1]:4.2f}\")\n",
    "print(f\"Predicted Distance Modulus for NGC 6231 = {dmpred_dat[2]:4.2f}\")\n",
    "print(f\"Predicted Distance Modulus for NGC 3293 = {dmpred_dat[3]:4.2f}\")\n",
    "\n",
    "#difference between measured and predicted distance moduli\n",
    "pred_dat_diff = \n",
    "print(\"difference between predicted and real distance modulus\")\n",
    "print()\n",
    "print(f\"difference between predicted and real distance modulus for M 34 = {pred_dat_diff[0]:4.2f}\")\n",
    "print(f\"difference between predicted and real distance modulus for M 36 = {pred_dat_diff[1]:4.2f}\")\n",
    "print(f\"difference between predicted and real distance modulus for NGC 6231 = {pred_dat_diff[2]:4.2f}\")\n",
    "print(f\"difference between predicted and real distance modulus for NGC 3293 = {pred_dat_diff[3]:4.2f}\")\n"
   ]
  },
  {
   "cell_type": "markdown",
   "metadata": {},
   "source": [
    "- Why do more distant clusters have more stars? Note that I used parallaxes to make a cut of roughly 30% in distance around each cluster.  This means I took the mean distance of the cluster and took stars between 70\\% and 130\\% of that distance.\n"
   ]
  },
  {
   "cell_type": "markdown",
   "metadata": {},
   "source": [
    "- What astrophysical effect that we are ignoring might affect our derived distances and in what way?"
   ]
  },
  {
   "cell_type": "markdown",
   "metadata": {},
   "source": [
    "- How might you do a better job determining the shifts than doing it by eye.  If you would like to try it out your method, you can take some of the data files in the Project_clusters/ directory and try to implement a better method.  The quantities we use to make the plots are bp_rp for the x-axis and phot_rp_mean_mag for the y-axis.  \n",
    "\n",
    "***Hint***: There are functions in numpy, `numpy.median()` and `numpy.average()` that take the mean and median of an array passed to it.  So you could use Boolean commands to select a portion of one of the axes and one of the numpy commands to compute the median or average value of the other parameter.\n"
   ]
  },
  {
   "cell_type": "markdown",
   "metadata": {},
   "source": [
    "## Instructions for handing the assignment in\n",
    "\n",
    "Make sure to save your notebook.\n",
    "\n",
    "Add this file to your CMD_fitting_distance_modulus github repository.\n",
    "\n",
    "No need to add me as a collaborator.  As long as you named the exercise accordingly I will be able to find it in your repository."
   ]
  }
 ],
 "metadata": {
  "kernelspec": {
   "display_name": "Python 3 (ipykernel)",
   "language": "python",
   "name": "python3"
  },
  "language_info": {
   "codemirror_mode": {
    "name": "ipython",
    "version": 3
   },
   "file_extension": ".py",
   "mimetype": "text/x-python",
   "name": "python",
   "nbconvert_exporter": "python",
   "pygments_lexer": "ipython3",
   "version": "3.12.5"
  }
 },
 "nbformat": 4,
 "nbformat_minor": 4
}
